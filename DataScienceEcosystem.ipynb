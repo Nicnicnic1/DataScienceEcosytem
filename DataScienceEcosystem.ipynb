{
 "cells": [
  {
   "cell_type": "markdown",
   "id": "2883529c",
   "metadata": {},
   "source": [
    "# Data Science Tools and Ecosystem\n"
   ]
  },
  {
   "cell_type": "markdown",
   "id": "878e9715",
   "metadata": {},
   "source": [
    "In this notebook, Data Scince Tools and Ecosystem are summarized.\n"
   ]
  },
  {
   "cell_type": "markdown",
   "id": "4d75996e",
   "metadata": {},
   "source": [
    "Some of the popular languages that Data Scientist use are:\n",
    "1. R\n",
    "2. Python\n",
    "3. Java\n",
    "4. SQL\n",
    "5. Julia\n",
    "6. C++\n",
    "    "
   ]
  },
  {
   "cell_type": "markdown",
   "id": "b8f49ff0",
   "metadata": {},
   "source": [
    "Some of the commonly used libraries used by Data Scientists include:\n",
    " 1. PyTorch\n",
    " 2. NumPy\n",
    " 3. Matplotlib\n",
    " 4. SciPy"
   ]
  },
  {
   "cell_type": "markdown",
   "id": "3da914f0",
   "metadata": {},
   "source": [
    "| Data Science Tools |\n",
    "| -------------------|\n",
    "| JupyterLab |\n",
    "| Pandas |\n",
    "| Hadoop |"
   ]
  },
  {
   "cell_type": "markdown",
   "id": "2c2711e7",
   "metadata": {},
   "source": [
    "### Below are a few examples of evaluating aritmetic expressions in Python. \n"
   ]
  },
  {
   "cell_type": "markdown",
   "id": "02e464ff",
   "metadata": {},
   "source": [
    "This is a simple arithmetic expression to multiply then add integers"
   ]
  },
  {
   "cell_type": "code",
   "execution_count": 3,
   "id": "23e5e590",
   "metadata": {},
   "outputs": [
    {
     "data": {
      "text/plain": [
       "17"
      ]
     },
     "execution_count": 3,
     "metadata": {},
     "output_type": "execute_result"
    }
   ],
   "source": [
    "(3*4)+5"
   ]
  },
  {
   "cell_type": "code",
   "execution_count": 5,
   "id": "d21057a3",
   "metadata": {},
   "outputs": [
    {
     "data": {
      "text/plain": [
       "3.3333333333333335"
      ]
     },
     "execution_count": 5,
     "metadata": {},
     "output_type": "execute_result"
    }
   ],
   "source": [
    "200/60"
   ]
  },
  {
   "cell_type": "markdown",
   "id": "8f2d261d",
   "metadata": {},
   "source": [
    "3.3333333333333335 = 200 minutes to hours"
   ]
  },
  {
   "cell_type": "markdown",
   "id": "654742cf",
   "metadata": {},
   "source": [
    "__Objectives__: \n",
    "- Python\n",
    "- C++\n",
    "- R\n",
    "- Java\n",
    "- Julia"
   ]
  },
  {
   "cell_type": "markdown",
   "id": "fcf0ebd0",
   "metadata": {},
   "source": [
    "## Author\n",
    "Nicholas Huynh"
   ]
  },
  {
   "cell_type": "code",
   "execution_count": null,
   "id": "818ed78e",
   "metadata": {},
   "outputs": [],
   "source": []
  }
 ],
 "metadata": {
  "kernelspec": {
   "display_name": "Python 3 (ipykernel)",
   "language": "python",
   "name": "python3"
  },
  "language_info": {
   "codemirror_mode": {
    "name": "ipython",
    "version": 3
   },
   "file_extension": ".py",
   "mimetype": "text/x-python",
   "name": "python",
   "nbconvert_exporter": "python",
   "pygments_lexer": "ipython3",
   "version": "3.10.9"
  }
 },
 "nbformat": 4,
 "nbformat_minor": 5
}
